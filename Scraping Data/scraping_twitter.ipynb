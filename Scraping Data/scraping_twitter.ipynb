{
  "nbformat": 4,
  "nbformat_minor": 0,
  "metadata": {
    "colab": {
      "provenance": []
    },
    "kernelspec": {
      "name": "python3",
      "display_name": "Python 3"
    },
    "language_info": {
      "name": "python"
    }
  },
  "cells": [
    {
      "cell_type": "code",
      "execution_count": null,
      "metadata": {
        "colab": {
          "base_uri": "https://localhost:8080/"
        },
        "id": "arC9yuYTbYfs",
        "outputId": "03eacc58-b192-4fe9-b2a5-cf14f6d0c8c9"
      },
      "outputs": [
        {
          "output_type": "stream",
          "name": "stdout",
          "text": [
            "Looking in indexes: https://pypi.org/simple, https://us-python.pkg.dev/colab-wheels/public/simple/\n",
            "Requirement already satisfied: snscrape in /usr/local/lib/python3.8/dist-packages (0.4.3.20220106)\n",
            "Requirement already satisfied: beautifulsoup4 in /usr/local/lib/python3.8/dist-packages (from snscrape) (4.6.3)\n",
            "Requirement already satisfied: filelock in /usr/local/lib/python3.8/dist-packages (from snscrape) (3.8.2)\n",
            "Requirement already satisfied: pytz in /usr/local/lib/python3.8/dist-packages (from snscrape) (2022.6)\n",
            "Requirement already satisfied: requests[socks] in /usr/local/lib/python3.8/dist-packages (from snscrape) (2.23.0)\n",
            "Requirement already satisfied: lxml in /usr/local/lib/python3.8/dist-packages (from snscrape) (4.9.2)\n",
            "Requirement already satisfied: certifi>=2017.4.17 in /usr/local/lib/python3.8/dist-packages (from requests[socks]->snscrape) (2022.12.7)\n",
            "Requirement already satisfied: idna<3,>=2.5 in /usr/local/lib/python3.8/dist-packages (from requests[socks]->snscrape) (2.10)\n",
            "Requirement already satisfied: urllib3!=1.25.0,!=1.25.1,<1.26,>=1.21.1 in /usr/local/lib/python3.8/dist-packages (from requests[socks]->snscrape) (1.24.3)\n",
            "Requirement already satisfied: chardet<4,>=3.0.2 in /usr/local/lib/python3.8/dist-packages (from requests[socks]->snscrape) (3.0.4)\n",
            "Requirement already satisfied: PySocks!=1.5.7,>=1.5.6 in /usr/local/lib/python3.8/dist-packages (from requests[socks]->snscrape) (1.7.1)\n"
          ]
        }
      ],
      "source": [
        "!pip install snscrape"
      ]
    },
    {
      "cell_type": "code",
      "source": [
        "import snscrape.modules.twitter as sntwitter\n",
        "import pandas as pd\n",
        "\n",
        "query = \"tunda pemilu lang:id until:2022-04-30 since:2022-03-01 filter:replies\"\n",
        "tweets = []\n",
        "limit = 50000\n",
        "\n",
        "for tweet in sntwitter.TwitterSearchScraper(query).get_items():\n",
        "\n",
        "    # print(vars(tweet))\n",
        "    # break\n",
        "    if len(tweets) == limit:\n",
        "        break\n",
        "    else:\n",
        "        tweets.append([tweet.user.username, tweet.content])\n",
        "\n",
        "df = pd.DataFrame(tweets, columns=['User', 'Tweet'])\n",
        "\n",
        "df.to_csv('dataset-tunda-pemilu.csv')\n",
        "print(df)"
      ],
      "metadata": {
        "colab": {
          "base_uri": "https://localhost:8080/"
        },
        "id": "-IAfWzoLbdM1",
        "outputId": "ef951bb4-d0a4-499c-bf98-1ab1b702e176"
      },
      "execution_count": null,
      "outputs": [
        {
          "output_type": "stream",
          "name": "stdout",
          "text": [
            "                 User                                              Tweet\n",
            "0           conan_idn  @abdfadill @Fahrihamzah @DPR_RI Cukuplah mahas...\n",
            "1          malikpasee  @AcehInfo Yang pinter ya. kalo ada santunan te...\n",
            "2         Alfa_Rohadi  @geloraco Istana Ruwet .... \\nMinyak dijadikan...\n",
            "3           FishGoods  @Valeryanbr weeh Iki to jubire seng wingi ketu...\n",
            "4             munszar  @OposisiCerdas Maknya Pastikan Pemilu 2024 dan...\n",
            "...               ...                                                ...\n",
            "4074  SatyaPe48854701  @yosnggarang @KPK_RI Makin merajalela kalo pem...\n",
            "4075         haris_zr  @pakmul63 tidak tunda Pemilu dan tidak pindah ...\n",
            "4076         mabokuda  @pakmul63 Tunda pemilu, uud dpt ditunda, \\nIKN...\n",
            "4077         pakibnuh  @Febree17_ Ga usah di tanya... Ga ada kerjaan ...\n",
            "4078         basrol12  @Markonah_003 Asli berita taik dan ndak mutu, ...\n",
            "\n",
            "[4079 rows x 2 columns]\n"
          ]
        }
      ]
    }
  ]
}